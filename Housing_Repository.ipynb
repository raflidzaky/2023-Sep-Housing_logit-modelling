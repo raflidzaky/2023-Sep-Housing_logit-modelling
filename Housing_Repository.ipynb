{
  "nbformat": 4,
  "nbformat_minor": 0,
  "metadata": {
    "colab": {
      "provenance": [],
      "authorship_tag": "ABX9TyN5f6qMdHQwBHrQ31tc4CwG",
      "include_colab_link": true
    },
    "kernelspec": {
      "name": "python3",
      "display_name": "Python 3"
    },
    "language_info": {
      "name": "python"
    }
  },
  "cells": [
    {
      "cell_type": "markdown",
      "metadata": {
        "id": "view-in-github",
        "colab_type": "text"
      },
      "source": [
        "<a href=\"https://colab.research.google.com/github/raflidzaky/logit-modelling/blob/main/Housing_Repository.ipynb\" target=\"_parent\"><img src=\"https://colab.research.google.com/assets/colab-badge.svg\" alt=\"Open In Colab\"/></a>"
      ]
    },
    {
      "cell_type": "code",
      "execution_count": 3,
      "metadata": {
        "colab": {
          "base_uri": "https://localhost:8080/",
          "height": 73
        },
        "id": "Yu7d3KSbwarz",
        "outputId": "bdf8a778-d088-4b76-f727-b157e6268277"
      },
      "outputs": [
        {
          "output_type": "display_data",
          "data": {
            "text/plain": [
              "<IPython.core.display.HTML object>"
            ],
            "text/html": [
              "\n",
              "     <input type=\"file\" id=\"files-7de6a5b7-f61c-4cb4-ba44-6755fb71e543\" name=\"files[]\" multiple disabled\n",
              "        style=\"border:none\" />\n",
              "     <output id=\"result-7de6a5b7-f61c-4cb4-ba44-6755fb71e543\">\n",
              "      Upload widget is only available when the cell has been executed in the\n",
              "      current browser session. Please rerun this cell to enable.\n",
              "      </output>\n",
              "      <script>// Copyright 2017 Google LLC\n",
              "//\n",
              "// Licensed under the Apache License, Version 2.0 (the \"License\");\n",
              "// you may not use this file except in compliance with the License.\n",
              "// You may obtain a copy of the License at\n",
              "//\n",
              "//      http://www.apache.org/licenses/LICENSE-2.0\n",
              "//\n",
              "// Unless required by applicable law or agreed to in writing, software\n",
              "// distributed under the License is distributed on an \"AS IS\" BASIS,\n",
              "// WITHOUT WARRANTIES OR CONDITIONS OF ANY KIND, either express or implied.\n",
              "// See the License for the specific language governing permissions and\n",
              "// limitations under the License.\n",
              "\n",
              "/**\n",
              " * @fileoverview Helpers for google.colab Python module.\n",
              " */\n",
              "(function(scope) {\n",
              "function span(text, styleAttributes = {}) {\n",
              "  const element = document.createElement('span');\n",
              "  element.textContent = text;\n",
              "  for (const key of Object.keys(styleAttributes)) {\n",
              "    element.style[key] = styleAttributes[key];\n",
              "  }\n",
              "  return element;\n",
              "}\n",
              "\n",
              "// Max number of bytes which will be uploaded at a time.\n",
              "const MAX_PAYLOAD_SIZE = 100 * 1024;\n",
              "\n",
              "function _uploadFiles(inputId, outputId) {\n",
              "  const steps = uploadFilesStep(inputId, outputId);\n",
              "  const outputElement = document.getElementById(outputId);\n",
              "  // Cache steps on the outputElement to make it available for the next call\n",
              "  // to uploadFilesContinue from Python.\n",
              "  outputElement.steps = steps;\n",
              "\n",
              "  return _uploadFilesContinue(outputId);\n",
              "}\n",
              "\n",
              "// This is roughly an async generator (not supported in the browser yet),\n",
              "// where there are multiple asynchronous steps and the Python side is going\n",
              "// to poll for completion of each step.\n",
              "// This uses a Promise to block the python side on completion of each step,\n",
              "// then passes the result of the previous step as the input to the next step.\n",
              "function _uploadFilesContinue(outputId) {\n",
              "  const outputElement = document.getElementById(outputId);\n",
              "  const steps = outputElement.steps;\n",
              "\n",
              "  const next = steps.next(outputElement.lastPromiseValue);\n",
              "  return Promise.resolve(next.value.promise).then((value) => {\n",
              "    // Cache the last promise value to make it available to the next\n",
              "    // step of the generator.\n",
              "    outputElement.lastPromiseValue = value;\n",
              "    return next.value.response;\n",
              "  });\n",
              "}\n",
              "\n",
              "/**\n",
              " * Generator function which is called between each async step of the upload\n",
              " * process.\n",
              " * @param {string} inputId Element ID of the input file picker element.\n",
              " * @param {string} outputId Element ID of the output display.\n",
              " * @return {!Iterable<!Object>} Iterable of next steps.\n",
              " */\n",
              "function* uploadFilesStep(inputId, outputId) {\n",
              "  const inputElement = document.getElementById(inputId);\n",
              "  inputElement.disabled = false;\n",
              "\n",
              "  const outputElement = document.getElementById(outputId);\n",
              "  outputElement.innerHTML = '';\n",
              "\n",
              "  const pickedPromise = new Promise((resolve) => {\n",
              "    inputElement.addEventListener('change', (e) => {\n",
              "      resolve(e.target.files);\n",
              "    });\n",
              "  });\n",
              "\n",
              "  const cancel = document.createElement('button');\n",
              "  inputElement.parentElement.appendChild(cancel);\n",
              "  cancel.textContent = 'Cancel upload';\n",
              "  const cancelPromise = new Promise((resolve) => {\n",
              "    cancel.onclick = () => {\n",
              "      resolve(null);\n",
              "    };\n",
              "  });\n",
              "\n",
              "  // Wait for the user to pick the files.\n",
              "  const files = yield {\n",
              "    promise: Promise.race([pickedPromise, cancelPromise]),\n",
              "    response: {\n",
              "      action: 'starting',\n",
              "    }\n",
              "  };\n",
              "\n",
              "  cancel.remove();\n",
              "\n",
              "  // Disable the input element since further picks are not allowed.\n",
              "  inputElement.disabled = true;\n",
              "\n",
              "  if (!files) {\n",
              "    return {\n",
              "      response: {\n",
              "        action: 'complete',\n",
              "      }\n",
              "    };\n",
              "  }\n",
              "\n",
              "  for (const file of files) {\n",
              "    const li = document.createElement('li');\n",
              "    li.append(span(file.name, {fontWeight: 'bold'}));\n",
              "    li.append(span(\n",
              "        `(${file.type || 'n/a'}) - ${file.size} bytes, ` +\n",
              "        `last modified: ${\n",
              "            file.lastModifiedDate ? file.lastModifiedDate.toLocaleDateString() :\n",
              "                                    'n/a'} - `));\n",
              "    const percent = span('0% done');\n",
              "    li.appendChild(percent);\n",
              "\n",
              "    outputElement.appendChild(li);\n",
              "\n",
              "    const fileDataPromise = new Promise((resolve) => {\n",
              "      const reader = new FileReader();\n",
              "      reader.onload = (e) => {\n",
              "        resolve(e.target.result);\n",
              "      };\n",
              "      reader.readAsArrayBuffer(file);\n",
              "    });\n",
              "    // Wait for the data to be ready.\n",
              "    let fileData = yield {\n",
              "      promise: fileDataPromise,\n",
              "      response: {\n",
              "        action: 'continue',\n",
              "      }\n",
              "    };\n",
              "\n",
              "    // Use a chunked sending to avoid message size limits. See b/62115660.\n",
              "    let position = 0;\n",
              "    do {\n",
              "      const length = Math.min(fileData.byteLength - position, MAX_PAYLOAD_SIZE);\n",
              "      const chunk = new Uint8Array(fileData, position, length);\n",
              "      position += length;\n",
              "\n",
              "      const base64 = btoa(String.fromCharCode.apply(null, chunk));\n",
              "      yield {\n",
              "        response: {\n",
              "          action: 'append',\n",
              "          file: file.name,\n",
              "          data: base64,\n",
              "        },\n",
              "      };\n",
              "\n",
              "      let percentDone = fileData.byteLength === 0 ?\n",
              "          100 :\n",
              "          Math.round((position / fileData.byteLength) * 100);\n",
              "      percent.textContent = `${percentDone}% done`;\n",
              "\n",
              "    } while (position < fileData.byteLength);\n",
              "  }\n",
              "\n",
              "  // All done.\n",
              "  yield {\n",
              "    response: {\n",
              "      action: 'complete',\n",
              "    }\n",
              "  };\n",
              "}\n",
              "\n",
              "scope.google = scope.google || {};\n",
              "scope.google.colab = scope.google.colab || {};\n",
              "scope.google.colab._files = {\n",
              "  _uploadFiles,\n",
              "  _uploadFilesContinue,\n",
              "};\n",
              "})(self);\n",
              "</script> "
            ]
          },
          "metadata": {}
        },
        {
          "output_type": "stream",
          "name": "stdout",
          "text": [
            "Saving Housing.csv to Housing.csv\n"
          ]
        }
      ],
      "source": [
        "from google.colab import files\n",
        "\n",
        "dataset_upload = files.upload()"
      ]
    },
    {
      "cell_type": "code",
      "source": [
        "import pandas as pd\n",
        "dataset = pd.read_csv('Housing.csv')\n",
        "dataset"
      ],
      "metadata": {
        "colab": {
          "base_uri": "https://localhost:8080/",
          "height": 444
        },
        "id": "ssq47M2Nwv3-",
        "outputId": "de7a22c7-3cb5-4ec7-eab6-7e0681df120c"
      },
      "execution_count": 4,
      "outputs": [
        {
          "output_type": "execute_result",
          "data": {
            "text/plain": [
              "        price  area  bedrooms  bathrooms  stories mainroad guestroom basement  \\\n",
              "0    13300000  7420         4          2        3      yes        no       no   \n",
              "1    12250000  8960         4          4        4      yes        no       no   \n",
              "2    12250000  9960         3          2        2      yes        no      yes   \n",
              "3    12215000  7500         4          2        2      yes        no      yes   \n",
              "4    11410000  7420         4          1        2      yes       yes      yes   \n",
              "..        ...   ...       ...        ...      ...      ...       ...      ...   \n",
              "540   1820000  3000         2          1        1      yes        no      yes   \n",
              "541   1767150  2400         3          1        1       no        no       no   \n",
              "542   1750000  3620         2          1        1      yes        no       no   \n",
              "543   1750000  2910         3          1        1       no        no       no   \n",
              "544   1750000  3850         3          1        2      yes        no       no   \n",
              "\n",
              "    hotwaterheating airconditioning  parking prefarea furnishingstatus  \n",
              "0                no             yes        2      yes        furnished  \n",
              "1                no             yes        3       no        furnished  \n",
              "2                no              no        2      yes   semi-furnished  \n",
              "3                no             yes        3      yes        furnished  \n",
              "4                no             yes        2       no        furnished  \n",
              "..              ...             ...      ...      ...              ...  \n",
              "540              no              no        2       no      unfurnished  \n",
              "541              no              no        0       no   semi-furnished  \n",
              "542              no              no        0       no      unfurnished  \n",
              "543              no              no        0       no        furnished  \n",
              "544              no              no        0       no      unfurnished  \n",
              "\n",
              "[545 rows x 13 columns]"
            ],
            "text/html": [
              "\n",
              "  <div id=\"df-5fb57272-c4b6-4c52-b348-e0dda5b36857\" class=\"colab-df-container\">\n",
              "    <div>\n",
              "<style scoped>\n",
              "    .dataframe tbody tr th:only-of-type {\n",
              "        vertical-align: middle;\n",
              "    }\n",
              "\n",
              "    .dataframe tbody tr th {\n",
              "        vertical-align: top;\n",
              "    }\n",
              "\n",
              "    .dataframe thead th {\n",
              "        text-align: right;\n",
              "    }\n",
              "</style>\n",
              "<table border=\"1\" class=\"dataframe\">\n",
              "  <thead>\n",
              "    <tr style=\"text-align: right;\">\n",
              "      <th></th>\n",
              "      <th>price</th>\n",
              "      <th>area</th>\n",
              "      <th>bedrooms</th>\n",
              "      <th>bathrooms</th>\n",
              "      <th>stories</th>\n",
              "      <th>mainroad</th>\n",
              "      <th>guestroom</th>\n",
              "      <th>basement</th>\n",
              "      <th>hotwaterheating</th>\n",
              "      <th>airconditioning</th>\n",
              "      <th>parking</th>\n",
              "      <th>prefarea</th>\n",
              "      <th>furnishingstatus</th>\n",
              "    </tr>\n",
              "  </thead>\n",
              "  <tbody>\n",
              "    <tr>\n",
              "      <th>0</th>\n",
              "      <td>13300000</td>\n",
              "      <td>7420</td>\n",
              "      <td>4</td>\n",
              "      <td>2</td>\n",
              "      <td>3</td>\n",
              "      <td>yes</td>\n",
              "      <td>no</td>\n",
              "      <td>no</td>\n",
              "      <td>no</td>\n",
              "      <td>yes</td>\n",
              "      <td>2</td>\n",
              "      <td>yes</td>\n",
              "      <td>furnished</td>\n",
              "    </tr>\n",
              "    <tr>\n",
              "      <th>1</th>\n",
              "      <td>12250000</td>\n",
              "      <td>8960</td>\n",
              "      <td>4</td>\n",
              "      <td>4</td>\n",
              "      <td>4</td>\n",
              "      <td>yes</td>\n",
              "      <td>no</td>\n",
              "      <td>no</td>\n",
              "      <td>no</td>\n",
              "      <td>yes</td>\n",
              "      <td>3</td>\n",
              "      <td>no</td>\n",
              "      <td>furnished</td>\n",
              "    </tr>\n",
              "    <tr>\n",
              "      <th>2</th>\n",
              "      <td>12250000</td>\n",
              "      <td>9960</td>\n",
              "      <td>3</td>\n",
              "      <td>2</td>\n",
              "      <td>2</td>\n",
              "      <td>yes</td>\n",
              "      <td>no</td>\n",
              "      <td>yes</td>\n",
              "      <td>no</td>\n",
              "      <td>no</td>\n",
              "      <td>2</td>\n",
              "      <td>yes</td>\n",
              "      <td>semi-furnished</td>\n",
              "    </tr>\n",
              "    <tr>\n",
              "      <th>3</th>\n",
              "      <td>12215000</td>\n",
              "      <td>7500</td>\n",
              "      <td>4</td>\n",
              "      <td>2</td>\n",
              "      <td>2</td>\n",
              "      <td>yes</td>\n",
              "      <td>no</td>\n",
              "      <td>yes</td>\n",
              "      <td>no</td>\n",
              "      <td>yes</td>\n",
              "      <td>3</td>\n",
              "      <td>yes</td>\n",
              "      <td>furnished</td>\n",
              "    </tr>\n",
              "    <tr>\n",
              "      <th>4</th>\n",
              "      <td>11410000</td>\n",
              "      <td>7420</td>\n",
              "      <td>4</td>\n",
              "      <td>1</td>\n",
              "      <td>2</td>\n",
              "      <td>yes</td>\n",
              "      <td>yes</td>\n",
              "      <td>yes</td>\n",
              "      <td>no</td>\n",
              "      <td>yes</td>\n",
              "      <td>2</td>\n",
              "      <td>no</td>\n",
              "      <td>furnished</td>\n",
              "    </tr>\n",
              "    <tr>\n",
              "      <th>...</th>\n",
              "      <td>...</td>\n",
              "      <td>...</td>\n",
              "      <td>...</td>\n",
              "      <td>...</td>\n",
              "      <td>...</td>\n",
              "      <td>...</td>\n",
              "      <td>...</td>\n",
              "      <td>...</td>\n",
              "      <td>...</td>\n",
              "      <td>...</td>\n",
              "      <td>...</td>\n",
              "      <td>...</td>\n",
              "      <td>...</td>\n",
              "    </tr>\n",
              "    <tr>\n",
              "      <th>540</th>\n",
              "      <td>1820000</td>\n",
              "      <td>3000</td>\n",
              "      <td>2</td>\n",
              "      <td>1</td>\n",
              "      <td>1</td>\n",
              "      <td>yes</td>\n",
              "      <td>no</td>\n",
              "      <td>yes</td>\n",
              "      <td>no</td>\n",
              "      <td>no</td>\n",
              "      <td>2</td>\n",
              "      <td>no</td>\n",
              "      <td>unfurnished</td>\n",
              "    </tr>\n",
              "    <tr>\n",
              "      <th>541</th>\n",
              "      <td>1767150</td>\n",
              "      <td>2400</td>\n",
              "      <td>3</td>\n",
              "      <td>1</td>\n",
              "      <td>1</td>\n",
              "      <td>no</td>\n",
              "      <td>no</td>\n",
              "      <td>no</td>\n",
              "      <td>no</td>\n",
              "      <td>no</td>\n",
              "      <td>0</td>\n",
              "      <td>no</td>\n",
              "      <td>semi-furnished</td>\n",
              "    </tr>\n",
              "    <tr>\n",
              "      <th>542</th>\n",
              "      <td>1750000</td>\n",
              "      <td>3620</td>\n",
              "      <td>2</td>\n",
              "      <td>1</td>\n",
              "      <td>1</td>\n",
              "      <td>yes</td>\n",
              "      <td>no</td>\n",
              "      <td>no</td>\n",
              "      <td>no</td>\n",
              "      <td>no</td>\n",
              "      <td>0</td>\n",
              "      <td>no</td>\n",
              "      <td>unfurnished</td>\n",
              "    </tr>\n",
              "    <tr>\n",
              "      <th>543</th>\n",
              "      <td>1750000</td>\n",
              "      <td>2910</td>\n",
              "      <td>3</td>\n",
              "      <td>1</td>\n",
              "      <td>1</td>\n",
              "      <td>no</td>\n",
              "      <td>no</td>\n",
              "      <td>no</td>\n",
              "      <td>no</td>\n",
              "      <td>no</td>\n",
              "      <td>0</td>\n",
              "      <td>no</td>\n",
              "      <td>furnished</td>\n",
              "    </tr>\n",
              "    <tr>\n",
              "      <th>544</th>\n",
              "      <td>1750000</td>\n",
              "      <td>3850</td>\n",
              "      <td>3</td>\n",
              "      <td>1</td>\n",
              "      <td>2</td>\n",
              "      <td>yes</td>\n",
              "      <td>no</td>\n",
              "      <td>no</td>\n",
              "      <td>no</td>\n",
              "      <td>no</td>\n",
              "      <td>0</td>\n",
              "      <td>no</td>\n",
              "      <td>unfurnished</td>\n",
              "    </tr>\n",
              "  </tbody>\n",
              "</table>\n",
              "<p>545 rows × 13 columns</p>\n",
              "</div>\n",
              "    <div class=\"colab-df-buttons\">\n",
              "\n",
              "  <div class=\"colab-df-container\">\n",
              "    <button class=\"colab-df-convert\" onclick=\"convertToInteractive('df-5fb57272-c4b6-4c52-b348-e0dda5b36857')\"\n",
              "            title=\"Convert this dataframe to an interactive table.\"\n",
              "            style=\"display:none;\">\n",
              "\n",
              "  <svg xmlns=\"http://www.w3.org/2000/svg\" height=\"24px\" viewBox=\"0 -960 960 960\">\n",
              "    <path d=\"M120-120v-720h720v720H120Zm60-500h600v-160H180v160Zm220 220h160v-160H400v160Zm0 220h160v-160H400v160ZM180-400h160v-160H180v160Zm440 0h160v-160H620v160ZM180-180h160v-160H180v160Zm440 0h160v-160H620v160Z\"/>\n",
              "  </svg>\n",
              "    </button>\n",
              "\n",
              "  <style>\n",
              "    .colab-df-container {\n",
              "      display:flex;\n",
              "      gap: 12px;\n",
              "    }\n",
              "\n",
              "    .colab-df-convert {\n",
              "      background-color: #E8F0FE;\n",
              "      border: none;\n",
              "      border-radius: 50%;\n",
              "      cursor: pointer;\n",
              "      display: none;\n",
              "      fill: #1967D2;\n",
              "      height: 32px;\n",
              "      padding: 0 0 0 0;\n",
              "      width: 32px;\n",
              "    }\n",
              "\n",
              "    .colab-df-convert:hover {\n",
              "      background-color: #E2EBFA;\n",
              "      box-shadow: 0px 1px 2px rgba(60, 64, 67, 0.3), 0px 1px 3px 1px rgba(60, 64, 67, 0.15);\n",
              "      fill: #174EA6;\n",
              "    }\n",
              "\n",
              "    .colab-df-buttons div {\n",
              "      margin-bottom: 4px;\n",
              "    }\n",
              "\n",
              "    [theme=dark] .colab-df-convert {\n",
              "      background-color: #3B4455;\n",
              "      fill: #D2E3FC;\n",
              "    }\n",
              "\n",
              "    [theme=dark] .colab-df-convert:hover {\n",
              "      background-color: #434B5C;\n",
              "      box-shadow: 0px 1px 3px 1px rgba(0, 0, 0, 0.15);\n",
              "      filter: drop-shadow(0px 1px 2px rgba(0, 0, 0, 0.3));\n",
              "      fill: #FFFFFF;\n",
              "    }\n",
              "  </style>\n",
              "\n",
              "    <script>\n",
              "      const buttonEl =\n",
              "        document.querySelector('#df-5fb57272-c4b6-4c52-b348-e0dda5b36857 button.colab-df-convert');\n",
              "      buttonEl.style.display =\n",
              "        google.colab.kernel.accessAllowed ? 'block' : 'none';\n",
              "\n",
              "      async function convertToInteractive(key) {\n",
              "        const element = document.querySelector('#df-5fb57272-c4b6-4c52-b348-e0dda5b36857');\n",
              "        const dataTable =\n",
              "          await google.colab.kernel.invokeFunction('convertToInteractive',\n",
              "                                                    [key], {});\n",
              "        if (!dataTable) return;\n",
              "\n",
              "        const docLinkHtml = 'Like what you see? Visit the ' +\n",
              "          '<a target=\"_blank\" href=https://colab.research.google.com/notebooks/data_table.ipynb>data table notebook</a>'\n",
              "          + ' to learn more about interactive tables.';\n",
              "        element.innerHTML = '';\n",
              "        dataTable['output_type'] = 'display_data';\n",
              "        await google.colab.output.renderOutput(dataTable, element);\n",
              "        const docLink = document.createElement('div');\n",
              "        docLink.innerHTML = docLinkHtml;\n",
              "        element.appendChild(docLink);\n",
              "      }\n",
              "    </script>\n",
              "  </div>\n",
              "\n",
              "\n",
              "<div id=\"df-68fa0b9a-1dd5-4199-a903-b30a8234f947\">\n",
              "  <button class=\"colab-df-quickchart\" onclick=\"quickchart('df-68fa0b9a-1dd5-4199-a903-b30a8234f947')\"\n",
              "            title=\"Suggest charts.\"\n",
              "            style=\"display:none;\">\n",
              "\n",
              "<svg xmlns=\"http://www.w3.org/2000/svg\" height=\"24px\"viewBox=\"0 0 24 24\"\n",
              "     width=\"24px\">\n",
              "    <g>\n",
              "        <path d=\"M19 3H5c-1.1 0-2 .9-2 2v14c0 1.1.9 2 2 2h14c1.1 0 2-.9 2-2V5c0-1.1-.9-2-2-2zM9 17H7v-7h2v7zm4 0h-2V7h2v10zm4 0h-2v-4h2v4z\"/>\n",
              "    </g>\n",
              "</svg>\n",
              "  </button>\n",
              "\n",
              "<style>\n",
              "  .colab-df-quickchart {\n",
              "      --bg-color: #E8F0FE;\n",
              "      --fill-color: #1967D2;\n",
              "      --hover-bg-color: #E2EBFA;\n",
              "      --hover-fill-color: #174EA6;\n",
              "      --disabled-fill-color: #AAA;\n",
              "      --disabled-bg-color: #DDD;\n",
              "  }\n",
              "\n",
              "  [theme=dark] .colab-df-quickchart {\n",
              "      --bg-color: #3B4455;\n",
              "      --fill-color: #D2E3FC;\n",
              "      --hover-bg-color: #434B5C;\n",
              "      --hover-fill-color: #FFFFFF;\n",
              "      --disabled-bg-color: #3B4455;\n",
              "      --disabled-fill-color: #666;\n",
              "  }\n",
              "\n",
              "  .colab-df-quickchart {\n",
              "    background-color: var(--bg-color);\n",
              "    border: none;\n",
              "    border-radius: 50%;\n",
              "    cursor: pointer;\n",
              "    display: none;\n",
              "    fill: var(--fill-color);\n",
              "    height: 32px;\n",
              "    padding: 0;\n",
              "    width: 32px;\n",
              "  }\n",
              "\n",
              "  .colab-df-quickchart:hover {\n",
              "    background-color: var(--hover-bg-color);\n",
              "    box-shadow: 0 1px 2px rgba(60, 64, 67, 0.3), 0 1px 3px 1px rgba(60, 64, 67, 0.15);\n",
              "    fill: var(--button-hover-fill-color);\n",
              "  }\n",
              "\n",
              "  .colab-df-quickchart-complete:disabled,\n",
              "  .colab-df-quickchart-complete:disabled:hover {\n",
              "    background-color: var(--disabled-bg-color);\n",
              "    fill: var(--disabled-fill-color);\n",
              "    box-shadow: none;\n",
              "  }\n",
              "\n",
              "  .colab-df-spinner {\n",
              "    border: 2px solid var(--fill-color);\n",
              "    border-color: transparent;\n",
              "    border-bottom-color: var(--fill-color);\n",
              "    animation:\n",
              "      spin 1s steps(1) infinite;\n",
              "  }\n",
              "\n",
              "  @keyframes spin {\n",
              "    0% {\n",
              "      border-color: transparent;\n",
              "      border-bottom-color: var(--fill-color);\n",
              "      border-left-color: var(--fill-color);\n",
              "    }\n",
              "    20% {\n",
              "      border-color: transparent;\n",
              "      border-left-color: var(--fill-color);\n",
              "      border-top-color: var(--fill-color);\n",
              "    }\n",
              "    30% {\n",
              "      border-color: transparent;\n",
              "      border-left-color: var(--fill-color);\n",
              "      border-top-color: var(--fill-color);\n",
              "      border-right-color: var(--fill-color);\n",
              "    }\n",
              "    40% {\n",
              "      border-color: transparent;\n",
              "      border-right-color: var(--fill-color);\n",
              "      border-top-color: var(--fill-color);\n",
              "    }\n",
              "    60% {\n",
              "      border-color: transparent;\n",
              "      border-right-color: var(--fill-color);\n",
              "    }\n",
              "    80% {\n",
              "      border-color: transparent;\n",
              "      border-right-color: var(--fill-color);\n",
              "      border-bottom-color: var(--fill-color);\n",
              "    }\n",
              "    90% {\n",
              "      border-color: transparent;\n",
              "      border-bottom-color: var(--fill-color);\n",
              "    }\n",
              "  }\n",
              "</style>\n",
              "\n",
              "  <script>\n",
              "    async function quickchart(key) {\n",
              "      const quickchartButtonEl =\n",
              "        document.querySelector('#' + key + ' button');\n",
              "      quickchartButtonEl.disabled = true;  // To prevent multiple clicks.\n",
              "      quickchartButtonEl.classList.add('colab-df-spinner');\n",
              "      try {\n",
              "        const charts = await google.colab.kernel.invokeFunction(\n",
              "            'suggestCharts', [key], {});\n",
              "      } catch (error) {\n",
              "        console.error('Error during call to suggestCharts:', error);\n",
              "      }\n",
              "      quickchartButtonEl.classList.remove('colab-df-spinner');\n",
              "      quickchartButtonEl.classList.add('colab-df-quickchart-complete');\n",
              "    }\n",
              "    (() => {\n",
              "      let quickchartButtonEl =\n",
              "        document.querySelector('#df-68fa0b9a-1dd5-4199-a903-b30a8234f947 button');\n",
              "      quickchartButtonEl.style.display =\n",
              "        google.colab.kernel.accessAllowed ? 'block' : 'none';\n",
              "    })();\n",
              "  </script>\n",
              "</div>\n",
              "    </div>\n",
              "  </div>\n"
            ]
          },
          "metadata": {},
          "execution_count": 4
        }
      ]
    },
    {
      "cell_type": "markdown",
      "source": [
        "# Data Info"
      ],
      "metadata": {
        "id": "poLZk6P4xEZ9"
      }
    },
    {
      "cell_type": "code",
      "source": [
        "# This code will show us how much columns and rows within the data set\n",
        "dataset.shape\n",
        "'''Result interpretation: (Rows, Columns)'''"
      ],
      "metadata": {
        "colab": {
          "base_uri": "https://localhost:8080/"
        },
        "id": "wVgLGrR4w878",
        "outputId": "1835259d-08c4-495b-c0a8-4fe0f37c3ebc"
      },
      "execution_count": null,
      "outputs": [
        {
          "output_type": "execute_result",
          "data": {
            "text/plain": [
              "(545, 13)"
            ]
          },
          "metadata": {},
          "execution_count": 6
        }
      ]
    },
    {
      "cell_type": "code",
      "source": [
        "# This code will show us a full information about each columns\n",
        "dataset.info()"
      ],
      "metadata": {
        "colab": {
          "base_uri": "https://localhost:8080/"
        },
        "id": "IG-oqM22xLsu",
        "outputId": "93292742-f5f0-47b3-e63d-e1c63fea2086"
      },
      "execution_count": null,
      "outputs": [
        {
          "output_type": "stream",
          "name": "stdout",
          "text": [
            "<class 'pandas.core.frame.DataFrame'>\n",
            "RangeIndex: 545 entries, 0 to 544\n",
            "Data columns (total 13 columns):\n",
            " #   Column            Non-Null Count  Dtype \n",
            "---  ------            --------------  ----- \n",
            " 0   price             545 non-null    int64 \n",
            " 1   area              545 non-null    int64 \n",
            " 2   bedrooms          545 non-null    int64 \n",
            " 3   bathrooms         545 non-null    int64 \n",
            " 4   stories           545 non-null    int64 \n",
            " 5   mainroad          545 non-null    object\n",
            " 6   guestroom         545 non-null    object\n",
            " 7   basement          545 non-null    object\n",
            " 8   hotwaterheating   545 non-null    object\n",
            " 9   airconditioning   545 non-null    object\n",
            " 10  parking           545 non-null    int64 \n",
            " 11  prefarea          545 non-null    object\n",
            " 12  furnishingstatus  545 non-null    object\n",
            "dtypes: int64(6), object(7)\n",
            "memory usage: 55.5+ KB\n"
          ]
        }
      ]
    },
    {
      "cell_type": "markdown",
      "source": [
        "## Dealing with Outliers"
      ],
      "metadata": {
        "id": "_os4XXbBe7hm"
      }
    },
    {
      "cell_type": "code",
      "source": [
        "# Identify Outliers with Interquartile technique\n",
        "\n",
        "## Define the interquartile: distance between 1st quartile and 3rd quartile\n",
        "iqr = dataset['price'].quantile(.75) - dataset['price'].quantile(.25)\n",
        "\n",
        "## Set the upper bound of interquartile\n",
        "iqr_positive = dataset['price'].quantile(.75) + (1.5 * iqr)\n",
        "\n",
        "## Set the lower bound of interquartile\n",
        "iqr_negative = dataset['price'].quantile(.25) - (1.5 * iqr)\n",
        "\n",
        "'''Logic of interquartile techniques: Outlier is a point of data further from lower/upper bound of interquartile'''\n",
        "\n",
        "'''To do so, I need a null variable to hold the outlier values'''\n",
        "rows_in_dataset = []\n",
        "\n",
        "'''This loop logic is define which row in 'price' column that is an outlier, given the interquartile logic'''\n",
        "for indexes, rows in dataset.iterrows():\n",
        "\n",
        "  '''If the row on n-th index is an outlier, the program will take hold that value to the null variable'''\n",
        "\n",
        "  if rows['price'] > iqr_positive or rows['price'] < iqr_negative:\n",
        "    rows_in_dataset.append(indexes)\n",
        "\n",
        "'''Finally, the new dataset is the dataset without values in the null variable (outliers)'''\n",
        "dataset_new = dataset.drop(rows_in_dataset)"
      ],
      "metadata": {
        "id": "N7BlrDIae7AV"
      },
      "execution_count": 5,
      "outputs": []
    },
    {
      "cell_type": "code",
      "source": [
        "dataset_new.shape"
      ],
      "metadata": {
        "colab": {
          "base_uri": "https://localhost:8080/"
        },
        "id": "aGfE5ctofBpM",
        "outputId": "be9ca93a-ecf2-452d-8cac-f6c9c23d1cf0"
      },
      "execution_count": null,
      "outputs": [
        {
          "output_type": "execute_result",
          "data": {
            "text/plain": [
              "(530, 13)"
            ]
          },
          "metadata": {},
          "execution_count": 5
        }
      ]
    },
    {
      "cell_type": "code",
      "source": [
        "dataset_new.info()"
      ],
      "metadata": {
        "colab": {
          "base_uri": "https://localhost:8080/"
        },
        "id": "6E7JZSp1fK_Q",
        "outputId": "c8c1743b-44dc-4290-98d4-08574862d7ff"
      },
      "execution_count": 6,
      "outputs": [
        {
          "output_type": "stream",
          "name": "stdout",
          "text": [
            "<class 'pandas.core.frame.DataFrame'>\n",
            "RangeIndex: 530 entries, 15 to 544\n",
            "Data columns (total 13 columns):\n",
            " #   Column            Non-Null Count  Dtype \n",
            "---  ------            --------------  ----- \n",
            " 0   price             530 non-null    int64 \n",
            " 1   area              530 non-null    int64 \n",
            " 2   bedrooms          530 non-null    int64 \n",
            " 3   bathrooms         530 non-null    int64 \n",
            " 4   stories           530 non-null    int64 \n",
            " 5   mainroad          530 non-null    object\n",
            " 6   guestroom         530 non-null    object\n",
            " 7   basement          530 non-null    object\n",
            " 8   hotwaterheating   530 non-null    object\n",
            " 9   airconditioning   530 non-null    object\n",
            " 10  parking           530 non-null    int64 \n",
            " 11  prefarea          530 non-null    object\n",
            " 12  furnishingstatus  530 non-null    object\n",
            "dtypes: int64(6), object(7)\n",
            "memory usage: 54.0+ KB\n"
          ]
        }
      ]
    },
    {
      "cell_type": "code",
      "source": [
        "# To process the data on Eviews Software, I convert the new dataset to .xlsx format and download it without any index\n",
        "dataset_new.to_excel('new dataset.xlsx', index = False)"
      ],
      "metadata": {
        "id": "DBEs8gJBfuSI"
      },
      "execution_count": null,
      "outputs": []
    },
    {
      "cell_type": "markdown",
      "source": [
        "# Data Description"
      ],
      "metadata": {
        "id": "g_wR3zuJxaHh"
      }
    },
    {
      "cell_type": "markdown",
      "source": [
        "## Prices"
      ],
      "metadata": {
        "id": "KbZkwCev2KAi"
      }
    },
    {
      "cell_type": "code",
      "source": [
        "''' In the data description section, I explore the basic descriptive statistics within the attribute'''\n",
        "quantile_1 = dataset_new['price'].quantile(.25)\n",
        "median = dataset_new['price'].quantile(.50)\n",
        "quantile_3 = dataset_new['price'].quantile(.75)\n",
        "mean = dataset_new['price'].mean()\n",
        "standard_deviation = dataset_new['price'].std()\n",
        "min = dataset_new['price'].min()\n",
        "max = dataset_new['price'].max()\n",
        "\n",
        "print(f'''\n",
        "quantile 1: {quantile_1},\n",
        "quantile 2: {median},\n",
        "quantile 3: {quantile_3},\n",
        "mean: {mean.round(2)},\n",
        "standard deviation: {standard_deviation.round(2)},\n",
        "min: {min},\n",
        "max: {max}''')"
      ],
      "metadata": {
        "colab": {
          "base_uri": "https://localhost:8080/"
        },
        "id": "BPlwYIlzxW6e",
        "outputId": "8f69f262-7f70-497e-96b3-159cfa26cc28"
      },
      "execution_count": 13,
      "outputs": [
        {
          "output_type": "stream",
          "name": "stdout",
          "text": [
            "\n",
            "quantile 1: 3430000.0,\n",
            "quantile 2: 4270000.0,\n",
            "quantile 3: 5600000.0,\n",
            "mean: 4600663.09,\n",
            "standard deviation: 1596119.21,\n",
            "min: 1750000,\n",
            "max: 9100000\n"
          ]
        }
      ]
    },
    {
      "cell_type": "code",
      "source": [
        "import math\n",
        "import numpy as np\n",
        "from scipy.stats import shapiro\n",
        "\n",
        "# Perform Shapiro-Wilk test for normality distribution test\n",
        "print(shapiro(dataset_new['price']))\n",
        "\n",
        "'''The Shapiro-Wilk test result shows that 'price' atribute does not normally distribution'''"
      ],
      "metadata": {
        "colab": {
          "base_uri": "https://localhost:8080/"
        },
        "id": "EIbHsG0pzCkG",
        "outputId": "97d74760-83bd-44d0-91ca-5b95f3529da8"
      },
      "execution_count": 11,
      "outputs": [
        {
          "output_type": "stream",
          "name": "stdout",
          "text": [
            "ShapiroResult(statistic=0.9575926661491394, pvalue=3.237094620134329e-11)\n"
          ]
        }
      ]
    },
    {
      "cell_type": "code",
      "source": [
        "import matplotlib.pyplot as plt\n",
        "\n",
        "'''To compare the distribution of price and log price, I do a double sub-graphics in one set of visualization/plot'''\n",
        "'''The formats of the sub-graphics are two row and one column'''\n",
        "'''Format above is easing the reader to compare which graphics has the more skewed distribution'''\n",
        "\n",
        "# First sub-graphics: Distribution of Price\n",
        "plt.subplot(2, 1, 1)\n",
        "plot_1 = dataset_new['price'].hist()\n",
        "plt.ylabel('Count')\n",
        "plt.xlabel('Price')\n",
        "\n",
        "# First sub-graphics: Distribution of Log-Price\n",
        "plt.subplot(2, 1, 2)\n",
        "transformed_price = np.log(dataset_new['price'])\n",
        "plot_2 = transformed_price.hist()\n",
        "plt.ylabel('Count')\n",
        "plt.xlabel('Log-Price')\n",
        "\n",
        "# Define the space between first sub-graphics and second sub-graphics\n",
        "plt.subplots_adjust(hspace = 0.4)"
      ],
      "metadata": {
        "colab": {
          "base_uri": "https://localhost:8080/",
          "height": 449
        },
        "id": "iQV8xekl0N4N",
        "outputId": "1008a71a-05f9-4869-cf4c-0656157bee54"
      },
      "execution_count": 12,
      "outputs": [
        {
          "output_type": "display_data",
          "data": {
            "text/plain": [
              "<Figure size 640x480 with 2 Axes>"
            ],
            "image/png": "[encoded data removed]"
          },
          "metadata": {}
        }
      ]
    },
    {
      "cell_type": "code",
      "source": [
        "# Descriptive statistics of log-price\n",
        "quantile_1 = transformed_price.quantile(.25)\n",
        "median = transformed_price.quantile(.50)\n",
        "quantile_3 = transformed_price.quantile(.75)\n",
        "mean = transformed_price.mean()\n",
        "standard_deviation = transformed_price.std()\n",
        "min = transformed_price.min()\n",
        "max = transformed_price.max()\n",
        "\n",
        "print(f'''\n",
        "quantile 1: {quantile_1.round(2)},\n",
        "quantile 2: {median.round(2)},\n",
        "quantile 3: {quantile_3.round(2)},\n",
        "mean: {mean.round(2)},\n",
        "standard deviation: {standard_deviation.round(2)},\n",
        "min: {min.round(2)},\n",
        "max: {max.round(2)}''')"
      ],
      "metadata": {
        "colab": {
          "base_uri": "https://localhost:8080/"
        },
        "id": "btuuHmx16Tl6",
        "outputId": "819f263e-79fd-4d05-a0bb-42fc90b4043d"
      },
      "execution_count": null,
      "outputs": [
        {
          "output_type": "stream",
          "name": "stdout",
          "text": [
            "\n",
            "quantile 1: 15.05,\n",
            "quantile 2: 15.27,\n",
            "quantile 3: 15.54,\n",
            "mean: 15.28,\n",
            "standard deviation: 0.35,\n",
            "min: 14.38,\n",
            "max: 16.02\n"
          ]
        }
      ]
    },
    {
      "cell_type": "code",
      "source": [
        "# Shapiro-Wilk normality test of log-price\n",
        "print(shapiro(transformed_price))\n",
        "\n",
        "'''Result below shows that log-price remains not normally distributed'''"
      ],
      "metadata": {
        "colab": {
          "base_uri": "https://localhost:8080/"
        },
        "id": "pCqZPFfn0beH",
        "outputId": "e1eb7b44-ce15-4efc-88a1-abef2c0a9113"
      },
      "execution_count": null,
      "outputs": [
        {
          "output_type": "execute_result",
          "data": {
            "text/plain": [
              "ShapiroResult(statistic=0.9926916360855103, pvalue=0.010877659544348717)"
            ]
          },
          "metadata": {},
          "execution_count": 12
        }
      ]
    },
    {
      "cell_type": "markdown",
      "source": [
        "## Area"
      ],
      "metadata": {
        "id": "nSC3vLPl3yqZ"
      }
    },
    {
      "cell_type": "code",
      "source": [
        "# Descriptive statistics of 'Area' attribute\n",
        "quantile_1 = dataset_new['area'].quantile(.25)\n",
        "median = dataset_new['area'].quantile(.50)\n",
        "quantile_3 = dataset_new['area'].quantile(.75)\n",
        "mean = dataset_new['area'].mean()\n",
        "standard_deviation = dataset_new['area'].std()\n",
        "min = dataset_new['area'].min()\n",
        "max = dataset_new['area'].max()\n",
        "\n",
        "print(f'''\n",
        "quantile 1: {quantile_1},\n",
        "quantile 2: {median},\n",
        "quantile 3: {quantile_3},\n",
        "mean: {mean.round(2)},\n",
        "standard deviation: {standard_deviation.round(2)},\n",
        "min: {min},\n",
        "max: {max}''')"
      ],
      "metadata": {
        "colab": {
          "base_uri": "https://localhost:8080/"
        },
        "id": "WhhwcRy_2DgB",
        "outputId": "0826ba39-e53e-4f82-b894-a36759fb3f3a"
      },
      "execution_count": null,
      "outputs": [
        {
          "output_type": "stream",
          "name": "stdout",
          "text": [
            "\n",
            "quantile 1: 3547.5,\n",
            "quantile 2: 4500.0,\n",
            "quantile 3: 6315.75,\n",
            "mean: 5061.52,\n",
            "standard deviation: 2075.45,\n",
            "min: 1650,\n",
            "max: 15600\n"
          ]
        }
      ]
    },
    {
      "cell_type": "code",
      "source": [
        "dataset_new['area'].hist()\n",
        "plt.ylabel('Count')\n",
        "plt.xlabel('Area')\n",
        "plt.title('Distribution of Housing Area', fontweight = 'bold')"
      ],
      "metadata": {
        "colab": {
          "base_uri": "https://localhost:8080/",
          "height": 489
        },
        "id": "siY8k9pv4khD",
        "outputId": "7bfb70fa-eb89-4efc-9c96-838bc3ac147b"
      },
      "execution_count": null,
      "outputs": [
        {
          "output_type": "execute_result",
          "data": {
            "text/plain": [
              "Text(0.5, 1.0, 'Distribution of Housing Area')"
            ]
          },
          "metadata": {},
          "execution_count": 19
        },
        {
          "output_type": "display_data",
          "data": {
            "text/plain": [
              "<Figure size 640x480 with 1 Axes>"
            ],
            "image/png": "[encoded data removed]"
          },
          "metadata": {}
        }
      ]
    },
    {
      "cell_type": "code",
      "source": [
        "# Shapiro-Wilk normality test of Housing Area\n",
        "print(shapiro(dataset_new['area']))"
      ],
      "metadata": {
        "colab": {
          "base_uri": "https://localhost:8080/"
        },
        "id": "sUT97-1m5Mtc",
        "outputId": "5e8c572e-05e1-49e5-a44a-20dadc27acc4"
      },
      "execution_count": null,
      "outputs": [
        {
          "output_type": "execute_result",
          "data": {
            "text/plain": [
              "ShapiroResult(statistic=0.9193186163902283, pvalue=3.17203436123352e-16)"
            ]
          },
          "metadata": {},
          "execution_count": 20
        }
      ]
    },
    {
      "cell_type": "code",
      "source": [
        "# Shapiro-Wilk normality test of log-Housing Area\n",
        "transformed_area = np.log(dataset_new['area'])\n",
        "shapiro(transformed_area)"
      ],
      "metadata": {
        "colab": {
          "base_uri": "https://localhost:8080/"
        },
        "id": "yD7aye315RvX",
        "outputId": "2e986e86-81ec-43df-f675-bedd8f46a7fc"
      },
      "execution_count": null,
      "outputs": [
        {
          "output_type": "execute_result",
          "data": {
            "text/plain": [
              "ShapiroResult(statistic=0.9932228326797485, pvalue=0.01731082797050476)"
            ]
          },
          "metadata": {},
          "execution_count": 21
        }
      ]
    },
    {
      "cell_type": "markdown",
      "source": [
        "## Mainroad"
      ],
      "metadata": {
        "id": "u86uK33p2Cw8"
      }
    },
    {
      "cell_type": "code",
      "source": [
        "import matplotlib.pyplot as plt\n",
        "\n",
        "'''The purpose of this code block is giving us a glimpse of the distribution of mainroad'''\n",
        "'''The formats of the sub-graphics are one row and two column'''\n",
        "\n",
        "# Initialization: Prepare data to be contained in the graphics\n",
        "mainroad = dataset_new['mainroad'].value_counts()\n",
        "\n",
        "# This code line will give us a decimal value of mainroad's proportion\n",
        "'''dataset_new['mainroad'].count() perform as a denominator (total sample in mainroad column)'''\n",
        "percentage_mainroad = (mainroad/dataset_new['mainroad'].count()).mul(100)\n",
        "\n",
        "# This code line will give us a label on the bar chart ('yes' or 'no' label)\n",
        "labels = dataset_new['mainroad'].unique()\n",
        "\n",
        "# First sub-graphics: Bar chart of mainroad\n",
        "plt.subplot(1, 2, 1)\n",
        "plot = mainroad.plot.bar()\n",
        "plot.set_ylabel('Count')\n",
        "plot.set_xlabel('Mainroad?')\n",
        "plot.set_xticklabels(mainroad.index, rotation = 0)\n",
        "plot.bar_label(plot.containers[0], label_type = 'edge')\n",
        "\n",
        "# Title of the graphics\n",
        "plot.set_title('How Many Housings Are Situated in Mainroad?', fontweight = 'bold')\n",
        "\n",
        "# Second sub-graphics: Pie chart of mainroad\n",
        "plt.subplot(1, 2, 2)\n",
        "\n",
        "'''We need to convert the decimal value on percentage_mainroad to percentage value'''\n",
        "fig = plt.pie(percentage_mainroad, labels = labels, autopct = '%1.1f%%')"
      ],
      "metadata": {
        "colab": {
          "base_uri": "https://localhost:8080/",
          "height": 472
        },
        "id": "Igkl-T0767C8",
        "outputId": "68912f58-d466-4ca4-af8a-8151d502519c"
      },
      "execution_count": 16,
      "outputs": [
        {
          "output_type": "display_data",
          "data": {
            "text/plain": [
              "<Figure size 640x480 with 2 Axes>"
            ],
            "image/png": "[encoded data removed]"
          },
          "metadata": {}
        }
      ]
    },
    {
      "cell_type": "markdown",
      "source": [
        "## Guest Room"
      ],
      "metadata": {
        "id": "1QjOLLCHBnUv"
      }
    },
    {
      "cell_type": "code",
      "source": [
        "'''The purpose of this code block is giving us a glimpse of the distribution of guest room'''\n",
        "'''The formats of the sub-graphics are one row and two column'''\n",
        "\n",
        "guestrooms = dataset_new['guestroom'].value_counts()\n",
        "percentage_guestrooms = (guestrooms/dataset_new['guestroom'].count()).mul(100)\n",
        "labels = dataset_new['guestroom'].unique()\n",
        "\n",
        "# First sub-graphics: Bar chart of Guest Room\n",
        "plt.subplot(1, 2, 1)\n",
        "plot = guestrooms.plot.bar()\n",
        "plot.set_ylabel('Count')\n",
        "plot.set_xlabel('Any Guest Room?')\n",
        "plot.set_xticklabels(guestrooms.index, rotation = 0)\n",
        "plot.bar_label(plot.containers[0], label_type = 'edge')\n",
        "\n",
        "plot.set_title('How Many Housings Have Any Guestroom?', fontweight = 'bold')\n",
        "\n",
        "# Second sub-graphics: Pie chart of Guest Room\n",
        "plt.subplot(1, 2, 2)\n",
        "fig = plt.pie(percentage_guestrooms, labels = labels, autopct = '%1.1f%%')"
      ],
      "metadata": {
        "colab": {
          "base_uri": "https://localhost:8080/",
          "height": 472
        },
        "id": "UgRjAGjgByD7",
        "outputId": "7f38dfd6-dcb3-49e4-f905-aa41551724a2"
      },
      "execution_count": 15,
      "outputs": [
        {
          "output_type": "display_data",
          "data": {
            "text/plain": [
              "<Figure size 640x480 with 2 Axes>"
            ],
            "image/png": "[encoded data removed]"
          },
          "metadata": {}
        }
      ]
    },
    {
      "cell_type": "markdown",
      "source": [
        "## Basements"
      ],
      "metadata": {
        "id": "sFfaDpKAC_p2"
      }
    },
    {
      "cell_type": "code",
      "source": [
        "'''The purpose of this code block is giving us a glimpse of the distribution of basement'''\n",
        "'''The formats of the sub-graphics are one row and two column'''\n",
        "\n",
        "basements = dataset_new['basement'].value_counts()\n",
        "percentage_basements = (basements/dataset_new['basement'].count()).mul(100)\n",
        "labels = dataset_new['basement'].unique()\n",
        "\n",
        "# First sub-graphics: Bar chart of Basement\n",
        "plt.subplot(1, 2, 1)\n",
        "plot = basements.plot.bar()\n",
        "plot.set_ylabel('Count')\n",
        "plot.set_xlabel('Any Basements?')\n",
        "plot.set_xticklabels(guestrooms.index, rotation = 0)\n",
        "plot.bar_label(plot.containers[0], label_type = 'edge')\n",
        "\n",
        "plot.set_title('How Many Housings Have Any Basement?', fontweight = 'bold')\n",
        "\n",
        "# Second sub-graphics: Pie chart of Basement\n",
        "plt.subplot(1, 2, 2)\n",
        "fig = plt.pie(percentage_basements, labels = labels, autopct = '%1.1f%%')"
      ],
      "metadata": {
        "colab": {
          "base_uri": "https://localhost:8080/",
          "height": 472
        },
        "id": "pygVv4moDRqO",
        "outputId": "e86dab8d-4763-4f1f-917a-66823604512e"
      },
      "execution_count": null,
      "outputs": [
        {
          "output_type": "display_data",
          "data": {
            "text/plain": [
              "<Figure size 640x480 with 2 Axes>"
            ],
            "image/png": "[encoded data removed]"
          },
          "metadata": {}
        }
      ]
    },
    {
      "cell_type": "markdown",
      "source": [
        "## Hot Water Heating"
      ],
      "metadata": {
        "id": "2gvJyaOoFOqG"
      }
    },
    {
      "cell_type": "code",
      "source": [
        "'''The purpose of this code block is giving us a glimpse of the distribution of hot water heating'''\n",
        "'''The formats of the sub-graphics are one row and two column'''\n",
        "\n",
        "water_heatings = dataset_new['hotwaterheating'].value_counts()\n",
        "percentage_heatings = (water_heatings/dataset_new['hotwaterheating'].count()).mul(100)\n",
        "labels = dataset_new['hotwaterheating'].unique()\n",
        "\n",
        "'''Because of small proportion in 'yes', it will be difficult to see the label'''\n",
        "'''Hence, I need to give a space between 'yes' and 'no' proportions'''\n",
        "'''Second component on \"percentage_heatings\" series will be given a space'''\n",
        "explodes = [0, 0.5]\n",
        "\n",
        "# First sub-graphics: Bar chart of Hot Water Heating\n",
        "plt.subplot(1, 2, 1)\n",
        "plot = water_heatings.plot.bar()\n",
        "plot.set_ylabel('Count')\n",
        "plot.set_xlabel('Any Hot Water Heating?')\n",
        "plot.set_xticklabels(water_heatings.index, rotation = 0)\n",
        "plot.bar_label(plot.containers[0], label_type = 'edge')\n",
        "\n",
        "plot.set_title('How Many Housings Have Hot Water Heating?', fontweight = 'bold')\n",
        "\n",
        "# Second sub-graphics: Pie chart of Hot Water Heating\n",
        "plt.subplot(1, 2, 2)\n",
        "fig = plt.pie(percentage_heatings, labels = labels, autopct = '%1.1f%%', explode = explodes)"
      ],
      "metadata": {
        "colab": {
          "base_uri": "https://localhost:8080/",
          "height": 472
        },
        "id": "qBPxgGIOFApy",
        "outputId": "7a75dc45-7ade-4be3-db04-55acc482dc52"
      },
      "execution_count": null,
      "outputs": [
        {
          "output_type": "display_data",
          "data": {
            "text/plain": [
              "<Figure size 640x480 with 2 Axes>"
            ],
            "image/png": "[encoded data removed]"
          },
          "metadata": {}
        }
      ]
    },
    {
      "cell_type": "markdown",
      "source": [
        "## Air Conditionings"
      ],
      "metadata": {
        "id": "In7By5OLGITH"
      }
    },
    {
      "cell_type": "code",
      "source": [
        "'''The purpose of this code block is giving us a glimpse of the distribution of air conditioning'''\n",
        "'''The formats of the sub-graphics are one row and two column'''\n",
        "\n",
        "air_conditionings = dataset_new['airconditioning'].value_counts()\n",
        "percentage_ac =  (air_conditionings/dataset_new['airconditioning'].count()).mul(100)\n",
        "\n",
        "'''Since unique() will group the categorical data from its first row, the label in the pie chart\n",
        "   will be irrelevant'''\n",
        "'''For example, the orange proportion represent the 'yes' value. If we use .unique(), the label\n",
        "   however show us a 'no' value.'''\n",
        "'''To solve such problem, I group the value with this code line'''\n",
        "label_1 = air_conditionings.index\n",
        "\n",
        "# First sub-graphics: Bar chart of Air Conditioning\n",
        "plt.subplot(1, 2, 1)\n",
        "plot = air_conditionings.plot.bar()\n",
        "plot.set_ylabel('Count')\n",
        "plot.set_xlabel('Any Air Conditioning?')\n",
        "plot.set_xticklabels(air_conditionings.index, rotation = 0)\n",
        "plot.bar_label(plot.containers[0], label_type = 'edge')\n",
        "\n",
        "plot.set_title('How Many Housings Have Air Conditioning?', fontweight = 'bold')\n",
        "\n",
        "# Second sub-graphics: Bar chart of Air Conditioning\n",
        "plt.subplot(1, 2, 2)\n",
        "fig = plt.pie(percentage_ac, labels = label_1, autopct = '%1.1f%%')"
      ],
      "metadata": {
        "colab": {
          "base_uri": "https://localhost:8080/",
          "height": 472
        },
        "id": "33s20KuYGzBO",
        "outputId": "e6fe2740-c7e3-4780-de37-1f5fc4dd06c4"
      },
      "execution_count": null,
      "outputs": [
        {
          "output_type": "display_data",
          "data": {
            "text/plain": [
              "<Figure size 640x480 with 2 Axes>"
            ],
            "image/png": "[encoded data removed]"
          },
          "metadata": {}
        }
      ]
    },
    {
      "cell_type": "markdown",
      "source": [
        "## Preferred Area"
      ],
      "metadata": {
        "id": "nGH9BK_ZL-p8"
      }
    },
    {
      "cell_type": "code",
      "source": [
        "'''The purpose of this code block is giving us a glimpse of the distribution of preferred area'''\n",
        "'''The formats of the sub-graphics are one row and two column'''\n",
        "\n",
        "pref_area = dataset_new['prefarea'].value_counts().sort_values(ascending = True)\n",
        "percentage_prefarea = (pref_area/dataset_new['prefarea'].count()).mul(100)\n",
        "label_2 = pref_area.index\n",
        "\n",
        "# First sub-graphics: Bar chart of Preferred Area\n",
        "plt.subplot(1, 2, 1)\n",
        "plot = pref_area.plot.bar()\n",
        "plot.set_ylabel('Count')\n",
        "plot.set_xlabel('Any Preferred Area?')\n",
        "plot.set_xticklabels(pref_area.index, rotation = 0)\n",
        "plot.bar_label(plot.containers[0], label_type = 'edge')\n",
        "\n",
        "plot.set_title('How Many Housings Have Preferred Area?', fontweight = 'bold')\n",
        "\n",
        "# Second sub-graphics: Pie chart of Preferred Area\n",
        "plt.subplot(1, 2, 2)\n",
        "fig = plt.pie(pref_area, labels = label_2, autopct = '%1.1f%%')"
      ],
      "metadata": {
        "colab": {
          "base_uri": "https://localhost:8080/",
          "height": 472
        },
        "id": "3LDrsFDFMCHT",
        "outputId": "b5727de3-9dd4-4aed-8654-eb11bb2e39a5"
      },
      "execution_count": null,
      "outputs": [
        {
          "output_type": "display_data",
          "data": {
            "text/plain": [
              "<Figure size 640x480 with 2 Axes>"
            ],
            "image/png": "[encoded data removed]"
          },
          "metadata": {}
        }
      ]
    }
  ]
}